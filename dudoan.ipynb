{
 "cells": [
  {
   "cell_type": "code",
   "execution_count": 2,
   "metadata": {},
   "outputs": [],
   "source": [
    "import joblib\n",
    "import pandas as pd\n",
    "home_l5m=pd.read_csv('/workspaces/match_football_prediction/dulieududoan/dudoan_home.csv')\n",
    "away_l5m=pd.read_csv('/workspaces/match_football_prediction/dulieududoan/dudoan_away.csv')"
   ]
  },
  {
   "cell_type": "code",
   "execution_count": 3,
   "metadata": {},
   "outputs": [
    {
     "name": "stdout",
     "output_type": "stream",
     "text": [
      "Kết quả dự đoán trận đấu giữa Man City và Man United là: thắng\n"
     ]
    }
   ],
   "source": [
    "# Load model từ file\n",
    "loaded_model = joblib.load('/workspaces/match_football_prediction/model/EPL/L5M/best_random_forest_L5M.joblib')\n",
    "# Mã hóa tên đội thành số\n",
    "home_l5m['HomeTeam_code'] = home_l5m['HomeTeam'].astype('category').cat.codes \n",
    "away_l5m['AwayTeam_code'] = away_l5m['AwayTeam'].astype('category').cat.codes\n",
    "\n",
    "# Tạo dictionary để map tên đội với mã số\n",
    "home_team_dict = dict(zip(home_l5m['HomeTeam'], home_l5m['HomeTeam_code']))\n",
    "away_team_dict = dict(zip(away_l5m['AwayTeam'], away_l5m['AwayTeam_code']))\n",
    "\n",
    "# Nhập tên đội nhà và đội khách\n",
    "home_team = input(\"Nhập tên đội nhà: \")\n",
    "away_team = input(\"Nhập tên đội khách: \")\n",
    "\n",
    "# Lấy mã số của đội nhà và đội khách\n",
    "home_team_code = home_team_dict[home_team]\n",
    "away_team_code = away_team_dict[away_team]\n",
    "\n",
    "# Lấy thông tin đội nhà và đội khách dựa trên mã số\n",
    "home_info = home_l5m[home_l5m['HomeTeam_code'] == home_team_code].iloc[0]\n",
    "away_info = away_l5m[away_l5m['AwayTeam_code'] == away_team_code].iloc[0]\n",
    "\n",
    "# Tạo dataframe đầu vào cho model\n",
    "input_data = pd.DataFrame({\n",
    "    'HomeTeam': [home_info['HomeTeam_code']],\n",
    "    'AwayTeam': [away_info['AwayTeam_code']],\n",
    "    'AC_away': [away_info['AC_away']],\n",
    "    'AF_away': [away_info['AF_away']],\n",
    "    'AR_away': [away_info['AR_away']],\n",
    "    'AS_away': [away_info['AS_away']],\n",
    "    'AST_away': [away_info['AST_away']],\n",
    "    'AY_away': [away_info['AY_away']],\n",
    "    'FTAG_away': [away_info['FTAG_away']],\n",
    "    'FTHG_home': [home_info['FTHG_home']],\n",
    "    'HC_home': [home_info['HC_home']],\n",
    "    'HF_home': [home_info['HF_home']],\n",
    "    'HR_home': [home_info['HR_home']],\n",
    "    'HS_home': [home_info['HS_home']],\n",
    "    'HST_home': [home_info['HST_home']],\n",
    "    'HY_home': [home_info['HY_home']],\n",
    "    'LSHW_home': [home_info['LSHW_home']],\n",
    "    'LSHD_home': [home_info['LSHD_home']],\n",
    "    'LSAW_away': [away_info['LSAW_away']],\n",
    "    'LSAD_away': [away_info['LSAD_away']]\n",
    "})\n",
    "\n",
    "desired_order = [\n",
    "    'HomeTeam', 'AwayTeam','LSHW_home','LSAW_away','LSHD_home','LSAD_away','FTHG_home','FTAG_away','HC_home','AC_away','HF_home',\n",
    "    'AF_away','HR_home','AR_away', 'HS_home','AS_away', 'HST_home', 'AST_away','HY_home','AY_away'\n",
    "]\n",
    "\n",
    "# Sắp xếp lại các cột theo thứ tự mong muốn\n",
    "input_data = input_data.reindex(columns=desired_order)\n",
    "\n",
    "# Dự đoán kết quả\n",
    "prediction = loaded_model.predict(input_data)\n",
    "# In kết quả\n",
    "result = \"\"\n",
    "if prediction[0] == 2:\n",
    "    result = \"thắng\"\n",
    "elif prediction[0] == 0:\n",
    "    result = \"thua\"\n",
    "else:\n",
    "    result = \"hòa\"\n",
    "print(\"Kết quả dự đoán trận đấu giữa\", home_team, \"và\", away_team, \"là:\", result)"
   ]
  }
 ],
 "metadata": {
  "language_info": {
   "name": "python"
  }
 },
 "nbformat": 4,
 "nbformat_minor": 2
}
